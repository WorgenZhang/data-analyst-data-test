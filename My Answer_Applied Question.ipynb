{
 "cells": [
  {
   "cell_type": "code",
   "execution_count": 172,
   "metadata": {
    "collapsed": false
   },
   "outputs": [],
   "source": [
    "import pandas as pd\n",
    "import numpy as np\n",
    "import numpy.random as randn\n",
    "from pandas import Series,DataFrame\n",
    "import matplotlib as mpl\n",
    "import matplotlib.pyplot as plt\n",
    "import seaborn as sns\n",
    "%matplotlib inline"
   ]
  },
  {
   "cell_type": "code",
   "execution_count": 173,
   "metadata": {
    "collapsed": true
   },
   "outputs": [],
   "source": [
    "cars_mileage = pd.read_csv(\"/Users/Frank/Desktop/data-analyst-data-test/Cars_mileage.csv\")"
   ]
  },
  {
   "cell_type": "code",
   "execution_count": 174,
   "metadata": {
    "collapsed": false
   },
   "outputs": [
    {
     "data": {
      "text/html": [
       "<div>\n",
       "<table border=\"1\" class=\"dataframe\">\n",
       "  <thead>\n",
       "    <tr style=\"text-align: right;\">\n",
       "      <th></th>\n",
       "      <th>mpg</th>\n",
       "      <th>cylinders</th>\n",
       "      <th>displacement</th>\n",
       "      <th>horsepower</th>\n",
       "      <th>weight</th>\n",
       "      <th>acceleration</th>\n",
       "      <th>year</th>\n",
       "      <th>origin</th>\n",
       "      <th>name</th>\n",
       "    </tr>\n",
       "  </thead>\n",
       "  <tbody>\n",
       "    <tr>\n",
       "      <th>0</th>\n",
       "      <td>18.0</td>\n",
       "      <td>8</td>\n",
       "      <td>307.0</td>\n",
       "      <td>130</td>\n",
       "      <td>3504</td>\n",
       "      <td>12.0</td>\n",
       "      <td>70</td>\n",
       "      <td>1</td>\n",
       "      <td>chevrolet chevelle malibu</td>\n",
       "    </tr>\n",
       "    <tr>\n",
       "      <th>1</th>\n",
       "      <td>15.0</td>\n",
       "      <td>8</td>\n",
       "      <td>350.0</td>\n",
       "      <td>165</td>\n",
       "      <td>3693</td>\n",
       "      <td>11.5</td>\n",
       "      <td>70</td>\n",
       "      <td>1</td>\n",
       "      <td>buick skylark 320</td>\n",
       "    </tr>\n",
       "    <tr>\n",
       "      <th>2</th>\n",
       "      <td>18.0</td>\n",
       "      <td>8</td>\n",
       "      <td>318.0</td>\n",
       "      <td>150</td>\n",
       "      <td>3436</td>\n",
       "      <td>11.0</td>\n",
       "      <td>70</td>\n",
       "      <td>1</td>\n",
       "      <td>plymouth satellite</td>\n",
       "    </tr>\n",
       "    <tr>\n",
       "      <th>3</th>\n",
       "      <td>16.0</td>\n",
       "      <td>8</td>\n",
       "      <td>304.0</td>\n",
       "      <td>150</td>\n",
       "      <td>3433</td>\n",
       "      <td>12.0</td>\n",
       "      <td>70</td>\n",
       "      <td>1</td>\n",
       "      <td>amc rebel sst</td>\n",
       "    </tr>\n",
       "    <tr>\n",
       "      <th>4</th>\n",
       "      <td>17.0</td>\n",
       "      <td>8</td>\n",
       "      <td>302.0</td>\n",
       "      <td>140</td>\n",
       "      <td>3449</td>\n",
       "      <td>10.5</td>\n",
       "      <td>70</td>\n",
       "      <td>1</td>\n",
       "      <td>ford torino</td>\n",
       "    </tr>\n",
       "  </tbody>\n",
       "</table>\n",
       "</div>"
      ],
      "text/plain": [
       "    mpg  cylinders  displacement horsepower  weight  acceleration  year  \\\n",
       "0  18.0          8         307.0        130    3504          12.0    70   \n",
       "1  15.0          8         350.0        165    3693          11.5    70   \n",
       "2  18.0          8         318.0        150    3436          11.0    70   \n",
       "3  16.0          8         304.0        150    3433          12.0    70   \n",
       "4  17.0          8         302.0        140    3449          10.5    70   \n",
       "\n",
       "   origin                       name  \n",
       "0       1  chevrolet chevelle malibu  \n",
       "1       1          buick skylark 320  \n",
       "2       1         plymouth satellite  \n",
       "3       1              amc rebel sst  \n",
       "4       1                ford torino  "
      ]
     },
     "execution_count": 174,
     "metadata": {},
     "output_type": "execute_result"
    }
   ],
   "source": [
    "cars_mileage.head()"
   ]
  },
  {
   "cell_type": "code",
   "execution_count": 175,
   "metadata": {
    "collapsed": false
   },
   "outputs": [
    {
     "name": "stdout",
     "output_type": "stream",
     "text": [
      "<class 'pandas.core.frame.DataFrame'>\n",
      "RangeIndex: 397 entries, 0 to 396\n",
      "Data columns (total 9 columns):\n",
      "mpg             397 non-null float64\n",
      "cylinders       397 non-null int64\n",
      "displacement    397 non-null float64\n",
      "horsepower      397 non-null object\n",
      "weight          397 non-null int64\n",
      "acceleration    397 non-null float64\n",
      "year            397 non-null int64\n",
      "origin          397 non-null int64\n",
      "name            397 non-null object\n",
      "dtypes: float64(3), int64(4), object(2)\n",
      "memory usage: 28.0+ KB\n"
     ]
    }
   ],
   "source": [
    "cars_mileage.info()"
   ]
  },
  {
   "cell_type": "markdown",
   "metadata": {},
   "source": [
    "## (a)create a binary variable\n"
   ]
  },
  {
   "cell_type": "code",
   "execution_count": 176,
   "metadata": {
    "collapsed": false
   },
   "outputs": [],
   "source": [
    "cars_mileage=cars_mileage.dropna()\n",
    "\n",
    "median = cars_mileage['mpg'].median()\n",
    "cars_mileage['mpg_binary'] = Series(np.random.randn(len(cars_mileage['mpg'])))\n",
    "cars_mileage['mpg_binary'].loc[cars_mileage['mpg'] > median] = 1\n",
    "cars_mileage['mpg_binary'].loc[cars_mileage['mpg'] <= median] = 0\n"
   ]
  },
  {
   "cell_type": "code",
   "execution_count": 177,
   "metadata": {
    "collapsed": false
   },
   "outputs": [
    {
     "data": {
      "text/html": [
       "<div>\n",
       "<table border=\"1\" class=\"dataframe\">\n",
       "  <thead>\n",
       "    <tr style=\"text-align: right;\">\n",
       "      <th></th>\n",
       "      <th>mpg</th>\n",
       "      <th>cylinders</th>\n",
       "      <th>displacement</th>\n",
       "      <th>horsepower</th>\n",
       "      <th>weight</th>\n",
       "      <th>acceleration</th>\n",
       "      <th>year</th>\n",
       "      <th>origin</th>\n",
       "      <th>name</th>\n",
       "      <th>mpg_binary</th>\n",
       "    </tr>\n",
       "  </thead>\n",
       "  <tbody>\n",
       "    <tr>\n",
       "      <th>0</th>\n",
       "      <td>18.0</td>\n",
       "      <td>8</td>\n",
       "      <td>307.0</td>\n",
       "      <td>130</td>\n",
       "      <td>3504</td>\n",
       "      <td>12.0</td>\n",
       "      <td>70</td>\n",
       "      <td>1</td>\n",
       "      <td>chevrolet chevelle malibu</td>\n",
       "      <td>0.0</td>\n",
       "    </tr>\n",
       "    <tr>\n",
       "      <th>1</th>\n",
       "      <td>15.0</td>\n",
       "      <td>8</td>\n",
       "      <td>350.0</td>\n",
       "      <td>165</td>\n",
       "      <td>3693</td>\n",
       "      <td>11.5</td>\n",
       "      <td>70</td>\n",
       "      <td>1</td>\n",
       "      <td>buick skylark 320</td>\n",
       "      <td>0.0</td>\n",
       "    </tr>\n",
       "    <tr>\n",
       "      <th>2</th>\n",
       "      <td>18.0</td>\n",
       "      <td>8</td>\n",
       "      <td>318.0</td>\n",
       "      <td>150</td>\n",
       "      <td>3436</td>\n",
       "      <td>11.0</td>\n",
       "      <td>70</td>\n",
       "      <td>1</td>\n",
       "      <td>plymouth satellite</td>\n",
       "      <td>0.0</td>\n",
       "    </tr>\n",
       "    <tr>\n",
       "      <th>3</th>\n",
       "      <td>16.0</td>\n",
       "      <td>8</td>\n",
       "      <td>304.0</td>\n",
       "      <td>150</td>\n",
       "      <td>3433</td>\n",
       "      <td>12.0</td>\n",
       "      <td>70</td>\n",
       "      <td>1</td>\n",
       "      <td>amc rebel sst</td>\n",
       "      <td>0.0</td>\n",
       "    </tr>\n",
       "    <tr>\n",
       "      <th>4</th>\n",
       "      <td>17.0</td>\n",
       "      <td>8</td>\n",
       "      <td>302.0</td>\n",
       "      <td>140</td>\n",
       "      <td>3449</td>\n",
       "      <td>10.5</td>\n",
       "      <td>70</td>\n",
       "      <td>1</td>\n",
       "      <td>ford torino</td>\n",
       "      <td>0.0</td>\n",
       "    </tr>\n",
       "  </tbody>\n",
       "</table>\n",
       "</div>"
      ],
      "text/plain": [
       "    mpg  cylinders  displacement horsepower  weight  acceleration  year  \\\n",
       "0  18.0          8         307.0        130    3504          12.0    70   \n",
       "1  15.0          8         350.0        165    3693          11.5    70   \n",
       "2  18.0          8         318.0        150    3436          11.0    70   \n",
       "3  16.0          8         304.0        150    3433          12.0    70   \n",
       "4  17.0          8         302.0        140    3449          10.5    70   \n",
       "\n",
       "   origin                       name  mpg_binary  \n",
       "0       1  chevrolet chevelle malibu         0.0  \n",
       "1       1          buick skylark 320         0.0  \n",
       "2       1         plymouth satellite         0.0  \n",
       "3       1              amc rebel sst         0.0  \n",
       "4       1                ford torino         0.0  "
      ]
     },
     "execution_count": 177,
     "metadata": {},
     "output_type": "execute_result"
    }
   ],
   "source": [
    "cars_mileage.head()"
   ]
  },
  {
   "cell_type": "code",
   "execution_count": 178,
   "metadata": {
    "collapsed": false
   },
   "outputs": [
    {
     "data": {
      "text/plain": [
       "mpg             float64\n",
       "cylinders         int64\n",
       "displacement    float64\n",
       "horsepower       object\n",
       "weight            int64\n",
       "acceleration    float64\n",
       "year              int64\n",
       "origin            int64\n",
       "name             object\n",
       "mpg_binary      float64\n",
       "dtype: object"
      ]
     },
     "execution_count": 178,
     "metadata": {},
     "output_type": "execute_result"
    }
   ],
   "source": [
    "cars_mileage.dtypes"
   ]
  },
  {
   "cell_type": "code",
   "execution_count": 179,
   "metadata": {
    "collapsed": false
   },
   "outputs": [
    {
     "name": "stderr",
     "output_type": "stream",
     "text": [
      "/Users/Frank/anaconda/lib/python2.7/site-packages/ipykernel/__main__.py:1: FutureWarning: convert_objects is deprecated.  Use the data-type specific converters pd.to_datetime, pd.to_timedelta and pd.to_numeric.\n",
      "  if __name__ == '__main__':\n"
     ]
    }
   ],
   "source": [
    "cars_mileage=cars_mileage.convert_objects(convert_numeric=True)"
   ]
  },
  {
   "cell_type": "markdown",
   "metadata": {},
   "source": [
    "## (b) Which of the other variables seem most likely to be useful in predicting whether a car's mpg is above or below its median?\n"
   ]
  },
  {
   "cell_type": "code",
   "execution_count": 180,
   "metadata": {
    "collapsed": false
   },
   "outputs": [
    {
     "data": {
      "text/plain": [
       "<seaborn.axisgrid.PairGrid at 0x116d4f810>"
      ]
     },
     "execution_count": 180,
     "metadata": {},
     "output_type": "execute_result"
    },
    {
     "data": {
      "image/png": "[encoded data removed]",
      "text/plain": [
       "<matplotlib.figure.Figure at 0x116d4f410>"
      ]
     },
     "metadata": {},
     "output_type": "display_data"
    },
    {
     "data": {
      "image/png": "[encoded data removed]",
      "text/plain": [
       "<matplotlib.figure.Figure at 0x116c14ed0>"
      ]
     },
     "metadata": {},
     "output_type": "display_data"
    }
   ],
   "source": [
    "sns.pairplot(cars_mileage,x_vars=['mpg','cylinders','displacement'],\n",
    "             y_vars=['mpg_binary'])\n",
    "sns.pairplot(cars_mileage,x_vars=['horsepower','acceleration','year'],\n",
    "             y_vars=['mpg_binary'])"
   ]
  },
  {
   "cell_type": "code",
   "execution_count": 181,
   "metadata": {
    "collapsed": false
   },
   "outputs": [
    {
     "data": {
      "text/plain": [
       "<matplotlib.collections.PathCollection at 0x117289690>"
      ]
     },
     "execution_count": 181,
     "metadata": {},
     "output_type": "execute_result"
    },
    {
     "data": {
      "image/png": "[encoded data removed]",
      "text/plain": [
       "<matplotlib.figure.Figure at 0x116e71a10>"
      ]
     },
     "metadata": {},
     "output_type": "display_data"
    }
   ],
   "source": [
    "plt.scatter(cars_mileage['weight'],cars_mileage['mpg_binary'])"
   ]
  },
  {
   "cell_type": "markdown",
   "metadata": {
    "collapsed": false
   },
   "source": [
    " #### Conlusion:\n",
    " From the plot, we see that high displacement or high horsepower or high weight may lead to the car's mpg below it's median.\n",
    " \n",
    " I think 'horsepower' is the most likely variable to be useful in predicting whether a car's mpg is above or below its median, since you can see from the plot, nearly after 125 horsepower, a car's mpg are all below its median."
   ]
  },
  {
   "cell_type": "markdown",
   "metadata": {
    "collapsed": true
   },
   "source": [
    "## (c) Split the data into a training set and a test set."
   ]
  },
  {
   "cell_type": "code",
   "execution_count": 182,
   "metadata": {
    "collapsed": false
   },
   "outputs": [],
   "source": [
    "# drop rows where 'horsepower' column contain missing values.\n",
    "cars_mileage=cars_mileage[np.isfinite(cars_mileage['horsepower'])]"
   ]
  },
  {
   "cell_type": "code",
   "execution_count": 183,
   "metadata": {
    "collapsed": false
   },
   "outputs": [
    {
     "data": {
      "text/plain": [
       "mpg             392\n",
       "cylinders       392\n",
       "displacement    392\n",
       "horsepower      392\n",
       "weight          392\n",
       "acceleration    392\n",
       "year            392\n",
       "origin          392\n",
       "name            392\n",
       "mpg_binary      392\n",
       "dtype: int64"
      ]
     },
     "execution_count": 183,
     "metadata": {},
     "output_type": "execute_result"
    }
   ],
   "source": [
    "cars_mileage.count()"
   ]
  },
  {
   "cell_type": "code",
   "execution_count": 184,
   "metadata": {
    "collapsed": true
   },
   "outputs": [],
   "source": [
    "from patsy import dmatrices"
   ]
  },
  {
   "cell_type": "code",
   "execution_count": 185,
   "metadata": {
    "collapsed": true
   },
   "outputs": [],
   "source": [
    "# create dataframes with an intercept column\n",
    "y,X=dmatrices('mpg_binary~mpg+cylinders+displacement+horsepower+weight+acceleration+year+origin',cars_mileage,\n",
    "             return_type=\"dataframe\")"
   ]
  },
  {
   "cell_type": "code",
   "execution_count": 186,
   "metadata": {
    "collapsed": false
   },
   "outputs": [],
   "source": [
    "# flatten y into a 1-D array\n",
    "y = np.ravel(y)"
   ]
  },
  {
   "cell_type": "code",
   "execution_count": 187,
   "metadata": {
    "collapsed": false
   },
   "outputs": [],
   "source": [
    "from sklearn.linear_model import LogisticRegression\n",
    "from sklearn.cross_validation import train_test_split\n",
    "from sklearn.cross_validation import cross_val_score\n",
    "from sklearn import metrics\n",
    "from sklearn.metrics import mean_squared_error"
   ]
  },
  {
   "cell_type": "code",
   "execution_count": 188,
   "metadata": {
    "collapsed": false
   },
   "outputs": [],
   "source": [
    "# split into train and test sets\n",
    "X_train, X_test, y_train, y_test = train_test_split(X, y, test_size=0.3, random_state=0)"
   ]
  },
  {
   "cell_type": "code",
   "execution_count": 189,
   "metadata": {
    "collapsed": false
   },
   "outputs": [
    {
     "name": "stdout",
     "output_type": "stream",
     "text": [
      "(274, 118)\n"
     ]
    }
   ],
   "source": [
    "print(len(X_train),len(X_test))"
   ]
  },
  {
   "cell_type": "markdown",
   "metadata": {},
   "source": [
    "## (d) Perform two of the following in order to predict mpg_binary:"
   ]
  },
  {
   "cell_type": "code",
   "execution_count": 190,
   "metadata": {
    "collapsed": false
   },
   "outputs": [
    {
     "data": {
      "text/html": [
       "<div>\n",
       "<table border=\"1\" class=\"dataframe\">\n",
       "  <thead>\n",
       "    <tr style=\"text-align: right;\">\n",
       "      <th></th>\n",
       "      <th>mpg</th>\n",
       "      <th>cylinders</th>\n",
       "      <th>displacement</th>\n",
       "      <th>horsepower</th>\n",
       "      <th>weight</th>\n",
       "      <th>acceleration</th>\n",
       "      <th>year</th>\n",
       "      <th>origin</th>\n",
       "      <th>name</th>\n",
       "      <th>mpg_binary</th>\n",
       "    </tr>\n",
       "  </thead>\n",
       "  <tbody>\n",
       "    <tr>\n",
       "      <th>0</th>\n",
       "      <td>18.0</td>\n",
       "      <td>8</td>\n",
       "      <td>307.0</td>\n",
       "      <td>130.0</td>\n",
       "      <td>3504</td>\n",
       "      <td>12.0</td>\n",
       "      <td>70</td>\n",
       "      <td>1</td>\n",
       "      <td>chevrolet chevelle malibu</td>\n",
       "      <td>0.0</td>\n",
       "    </tr>\n",
       "    <tr>\n",
       "      <th>1</th>\n",
       "      <td>15.0</td>\n",
       "      <td>8</td>\n",
       "      <td>350.0</td>\n",
       "      <td>165.0</td>\n",
       "      <td>3693</td>\n",
       "      <td>11.5</td>\n",
       "      <td>70</td>\n",
       "      <td>1</td>\n",
       "      <td>buick skylark 320</td>\n",
       "      <td>0.0</td>\n",
       "    </tr>\n",
       "    <tr>\n",
       "      <th>2</th>\n",
       "      <td>18.0</td>\n",
       "      <td>8</td>\n",
       "      <td>318.0</td>\n",
       "      <td>150.0</td>\n",
       "      <td>3436</td>\n",
       "      <td>11.0</td>\n",
       "      <td>70</td>\n",
       "      <td>1</td>\n",
       "      <td>plymouth satellite</td>\n",
       "      <td>0.0</td>\n",
       "    </tr>\n",
       "    <tr>\n",
       "      <th>3</th>\n",
       "      <td>16.0</td>\n",
       "      <td>8</td>\n",
       "      <td>304.0</td>\n",
       "      <td>150.0</td>\n",
       "      <td>3433</td>\n",
       "      <td>12.0</td>\n",
       "      <td>70</td>\n",
       "      <td>1</td>\n",
       "      <td>amc rebel sst</td>\n",
       "      <td>0.0</td>\n",
       "    </tr>\n",
       "    <tr>\n",
       "      <th>4</th>\n",
       "      <td>17.0</td>\n",
       "      <td>8</td>\n",
       "      <td>302.0</td>\n",
       "      <td>140.0</td>\n",
       "      <td>3449</td>\n",
       "      <td>10.5</td>\n",
       "      <td>70</td>\n",
       "      <td>1</td>\n",
       "      <td>ford torino</td>\n",
       "      <td>0.0</td>\n",
       "    </tr>\n",
       "  </tbody>\n",
       "</table>\n",
       "</div>"
      ],
      "text/plain": [
       "    mpg  cylinders  displacement  horsepower  weight  acceleration  year  \\\n",
       "0  18.0          8         307.0       130.0    3504          12.0    70   \n",
       "1  15.0          8         350.0       165.0    3693          11.5    70   \n",
       "2  18.0          8         318.0       150.0    3436          11.0    70   \n",
       "3  16.0          8         304.0       150.0    3433          12.0    70   \n",
       "4  17.0          8         302.0       140.0    3449          10.5    70   \n",
       "\n",
       "   origin                       name  mpg_binary  \n",
       "0       1  chevrolet chevelle malibu         0.0  \n",
       "1       1          buick skylark 320         0.0  \n",
       "2       1         plymouth satellite         0.0  \n",
       "3       1              amc rebel sst         0.0  \n",
       "4       1                ford torino         0.0  "
      ]
     },
     "execution_count": 190,
     "metadata": {},
     "output_type": "execute_result"
    }
   ],
   "source": [
    "cars_mileage.head()"
   ]
  },
  {
   "cell_type": "markdown",
   "metadata": {},
   "source": [
    ">###  First: Logistic Regression"
   ]
  },
  {
   "cell_type": "code",
   "execution_count": 191,
   "metadata": {
    "collapsed": false
   },
   "outputs": [],
   "source": [
    "# Logistic regression model, and fit with X and y\n",
    "model = LogisticRegression()\n",
    "model = model.fit(X, y)"
   ]
  },
  {
   "cell_type": "code",
   "execution_count": 192,
   "metadata": {
    "collapsed": false
   },
   "outputs": [
    {
     "data": {
      "text/plain": [
       "0.97193877551020413"
      ]
     },
     "execution_count": 192,
     "metadata": {},
     "output_type": "execute_result"
    }
   ],
   "source": [
    "# check the accuracy on the traning set\n",
    "model.score(X,y)"
   ]
  },
  {
   "cell_type": "code",
   "execution_count": 193,
   "metadata": {
    "collapsed": false
   },
   "outputs": [
    {
     "data": {
      "text/html": [
       "<div>\n",
       "<table border=\"1\" class=\"dataframe\">\n",
       "  <thead>\n",
       "    <tr style=\"text-align: right;\">\n",
       "      <th></th>\n",
       "      <th>0</th>\n",
       "      <th>1</th>\n",
       "    </tr>\n",
       "  </thead>\n",
       "  <tbody>\n",
       "    <tr>\n",
       "      <th>0</th>\n",
       "      <td>Intercept</td>\n",
       "      <td>[-0.177869661086]</td>\n",
       "    </tr>\n",
       "    <tr>\n",
       "      <th>1</th>\n",
       "      <td>mpg</td>\n",
       "      <td>[1.59215283673]</td>\n",
       "    </tr>\n",
       "    <tr>\n",
       "      <th>2</th>\n",
       "      <td>cylinders</td>\n",
       "      <td>[-0.0695288860487]</td>\n",
       "    </tr>\n",
       "    <tr>\n",
       "      <th>3</th>\n",
       "      <td>displacement</td>\n",
       "      <td>[0.00207268601562]</td>\n",
       "    </tr>\n",
       "    <tr>\n",
       "      <th>4</th>\n",
       "      <td>horsepower</td>\n",
       "      <td>[-0.0710087610575]</td>\n",
       "    </tr>\n",
       "    <tr>\n",
       "      <th>5</th>\n",
       "      <td>weight</td>\n",
       "      <td>[0.000131012899913]</td>\n",
       "    </tr>\n",
       "    <tr>\n",
       "      <th>6</th>\n",
       "      <td>acceleration</td>\n",
       "      <td>[-0.589914312803]</td>\n",
       "    </tr>\n",
       "    <tr>\n",
       "      <th>7</th>\n",
       "      <td>year</td>\n",
       "      <td>[-0.270053035263]</td>\n",
       "    </tr>\n",
       "    <tr>\n",
       "      <th>8</th>\n",
       "      <td>origin</td>\n",
       "      <td>[-0.15708805699]</td>\n",
       "    </tr>\n",
       "  </tbody>\n",
       "</table>\n",
       "</div>"
      ],
      "text/plain": [
       "              0                    1\n",
       "0     Intercept    [-0.177869661086]\n",
       "1           mpg      [1.59215283673]\n",
       "2     cylinders   [-0.0695288860487]\n",
       "3  displacement   [0.00207268601562]\n",
       "4    horsepower   [-0.0710087610575]\n",
       "5        weight  [0.000131012899913]\n",
       "6  acceleration    [-0.589914312803]\n",
       "7          year    [-0.270053035263]\n",
       "8        origin     [-0.15708805699]"
      ]
     },
     "execution_count": 193,
     "metadata": {},
     "output_type": "execute_result"
    }
   ],
   "source": [
    "# examine the coefficients\n",
    "pd.DataFrame(zip(X.columns, np.transpose(model.coef_)))"
   ]
  },
  {
   "cell_type": "markdown",
   "metadata": {},
   "source": [
    "##### Increas in cylinders, displacement, and weight correspond to increase the liklihood of above the median of mileage. Instead, increase in cylinders, horsepower, acceleration, year and origin correspond to decrease the liklihood of above the median of mileage."
   ]
  },
  {
   "cell_type": "markdown",
   "metadata": {},
   "source": [
    "#### Model Evaluation"
   ]
  },
  {
   "cell_type": "code",
   "execution_count": 194,
   "metadata": {
    "collapsed": false
   },
   "outputs": [
    {
     "data": {
      "text/plain": [
       "LogisticRegression(C=1.0, class_weight=None, dual=False, fit_intercept=True,\n",
       "          intercept_scaling=1, max_iter=100, multi_class='ovr', n_jobs=1,\n",
       "          penalty='l2', random_state=None, solver='liblinear', tol=0.0001,\n",
       "          verbose=0, warm_start=False)"
      ]
     },
     "execution_count": 194,
     "metadata": {},
     "output_type": "execute_result"
    }
   ],
   "source": [
    "model2 = LogisticRegression()\n",
    "model2.fit(X_train, y_train)"
   ]
  },
  {
   "cell_type": "code",
   "execution_count": 195,
   "metadata": {
    "collapsed": false
   },
   "outputs": [
    {
     "name": "stdout",
     "output_type": "stream",
     "text": [
      "[ 1.  0.  0.  1.  1.  0.  1.  1.  0.  0.  1.  0.  1.  0.  0.  1.  0.  0.\n",
      "  1.  1.  0.  0.  0.  0.  1.  0.  1.  1.  0.  0.  0.  1.  0.  1.  0.  1.\n",
      "  1.  0.  0.  0.  0.  1.  1.  0.  1.  0.  1.  0.  0.  0.  1.  0.  0.  0.\n",
      "  1.  1.  0.  0.  1.  0.  0.  1.  1.  0.  1.  0.  0.  1.  1.  1.  1.  1.\n",
      "  0.  0.  1.  0.  1.  0.  1.  1.  0.  1.  1.  1.  0.  0.  1.  1.  1.  0.\n",
      "  1.  0.  0.  0.  1.  1.  1.  1.  1.  1.  0.  1.  1.  1.  1.  1.  1.  0.\n",
      "  1.  0.  0.  1.  1.  0.  1.  1.  1.  0.]\n"
     ]
    }
   ],
   "source": [
    "# predict class labels for the test set\n",
    "predicted = model2.predict(X_test)\n",
    "print predicted"
   ]
  },
  {
   "cell_type": "code",
   "execution_count": 196,
   "metadata": {
    "collapsed": false
   },
   "outputs": [
    {
     "data": {
      "text/plain": [
       "0.042372881355932202"
      ]
     },
     "execution_count": 196,
     "metadata": {},
     "output_type": "execute_result"
    }
   ],
   "source": [
    "# Meas squared error\n",
    "mean_squared_error(y_test,predicted)"
   ]
  },
  {
   "cell_type": "code",
   "execution_count": 197,
   "metadata": {
    "collapsed": false
   },
   "outputs": [
    {
     "name": "stdout",
     "output_type": "stream",
     "text": [
      "[[  7.71130440e-05   9.99922887e-01]\n",
      " [  8.67113526e-01   1.32886474e-01]\n",
      " [  9.99999959e-01   4.14975437e-08]\n",
      " [  1.48612456e-10   1.00000000e+00]\n",
      " [  4.00309228e-07   9.99999600e-01]\n",
      " [  9.98668748e-01   1.33125205e-03]\n",
      " [  8.57522053e-10   9.99999999e-01]\n",
      " [  3.82586986e-04   9.99617413e-01]\n",
      " [  9.90225131e-01   9.77486857e-03]\n",
      " [  9.94881033e-01   5.11896707e-03]]\n"
     ]
    }
   ],
   "source": [
    "# generate class probabilities\n",
    "probs = model2.predict_proba(X_test)\n",
    "print probs[0:10]"
   ]
  },
  {
   "cell_type": "markdown",
   "metadata": {},
   "source": [
    "#### As you can see, the classifier is predicting a 1 (above the median) any time the probability in the second column is greater than 0.5."
   ]
  },
  {
   "cell_type": "code",
   "execution_count": 198,
   "metadata": {
    "collapsed": false
   },
   "outputs": [
    {
     "name": "stdout",
     "output_type": "stream",
     "text": [
      "0.957627118644\n"
     ]
    }
   ],
   "source": [
    "# generate evaluation metrics\n",
    "print metrics.accuracy_score(y_test, predicted)"
   ]
  },
  {
   "cell_type": "markdown",
   "metadata": {},
   "source": [
    "##### The accuracy is 95.76%"
   ]
  },
  {
   "cell_type": "code",
   "execution_count": 199,
   "metadata": {
    "collapsed": false
   },
   "outputs": [
    {
     "name": "stdout",
     "output_type": "stream",
     "text": [
      "             precision    recall  f1-score   support\n",
      "\n",
      "        0.0       0.96      0.95      0.96        57\n",
      "        1.0       0.95      0.97      0.96        61\n",
      "\n",
      "avg / total       0.96      0.96      0.96       118\n",
      "\n"
     ]
    }
   ],
   "source": [
    "# classification report\n",
    "print metrics.classification_report(y_test, predicted)"
   ]
  },
  {
   "cell_type": "markdown",
   "metadata": {},
   "source": [
    "#### Precision of mpg_binary when it equals 1 is 95%."
   ]
  },
  {
   "cell_type": "code",
   "execution_count": 200,
   "metadata": {
    "collapsed": false
   },
   "outputs": [
    {
     "name": "stdout",
     "output_type": "stream",
     "text": [
      "[ 0.975       0.925       0.975       0.975       0.95        0.87179487\n",
      "  0.92307692  0.97368421  0.94736842  0.97368421]\n",
      "0.948960863698\n"
     ]
    }
   ],
   "source": [
    "# evaluate the model using 10-fold cross-validation\n",
    "scores = cross_val_score(LogisticRegression(), X, y, scoring='accuracy', cv=10)\n",
    "print scores\n",
    "print scores.mean()"
   ]
  },
  {
   "cell_type": "markdown",
   "metadata": {},
   "source": [
    "#### By cross-validation method (10-fold), we see the mean of 10 folds' accuracy is 94.89%, which is nealy same what we got before."
   ]
  },
  {
   "cell_type": "markdown",
   "metadata": {},
   "source": [
    ">### Second: Ridge Regression"
   ]
  },
  {
   "cell_type": "code",
   "execution_count": 201,
   "metadata": {
    "collapsed": true
   },
   "outputs": [],
   "source": [
    "from sklearn.linear_model import Ridge"
   ]
  },
  {
   "cell_type": "code",
   "execution_count": 219,
   "metadata": {
    "collapsed": true
   },
   "outputs": [],
   "source": [
    "def ridge_regression(X, y, alpha, models_to_plot={}):\n",
    "    #Fit the model\n",
    "    model3 = Ridge(alpha=alpha,normalize=True,max_iter=1e5)\n",
    "    model3.fit(X,y)\n",
    "    y_pred = model3.predict(X)\n",
    "    \n",
    "    #For every alpha, make a plot\n",
    "    if alpha in models_to_plot:\n",
    "        plt.subplot(models_to_plot[alpha])\n",
    "        plt.tight_layout()\n",
    "        plt.plot(X,y_pred)\n",
    "        plt.plot(X,y,'.')\n",
    "        plt.title('Plot for alpha: %.3g'%alpha)\n",
    "    \n",
    "    #Return the result with rss,intercept, and coefficients\n",
    "    rss = sum((y_pred-y)**2)\n",
    "    ret = [rss]\n",
    "    ret.extend([model3.intercept_])\n",
    "    ret.extend(model3.coef_[1:10])\n",
    "    return ret"
   ]
  },
  {
   "cell_type": "code",
   "execution_count": 220,
   "metadata": {
    "collapsed": false
   },
   "outputs": [
    {
     "data": {
      "image/png": "[encoded data removed]",
      "text/plain": [
       "<matplotlib.figure.Figure at 0x116bd2ed0>"
      ]
     },
     "metadata": {},
     "output_type": "display_data"
    }
   ],
   "source": [
    "#Set the different values of alpha to be tested\n",
    "alpha_ridge = [1e-15, 1e-10, 1e-8, 1e-4, 1e-3,1e-2, 1, 5, 10, 20]\n",
    "\n",
    "#Initialize the dataframe for storing coefficients.\n",
    "col = ['rss','intercept'] + ['coef_x_%d'%i for i in range(1,9)]\n",
    "ind = ['alpha_%.2g'%alpha_ridge[i] for i in range(0,10)]\n",
    "coef_matrix_ridge = pd.DataFrame(index=ind, columns=col)\n",
    "\n",
    "models_to_plot = {1e-15:231, 1e-10:232, 1e-4:233, 1e-3:234, 1e-2:235, 5:236}\n",
    "for i in range(10):\n",
    "    coef_matrix_ridge.iloc[i,] = ridge_regression(X, y, alpha_ridge[i], models_to_plot)"
   ]
  },
  {
   "cell_type": "code",
   "execution_count": 221,
   "metadata": {
    "collapsed": false
   },
   "outputs": [
    {
     "data": {
      "text/html": [
       "<div>\n",
       "<table border=\"1\" class=\"dataframe\">\n",
       "  <thead>\n",
       "    <tr style=\"text-align: right;\">\n",
       "      <th></th>\n",
       "      <th>rss</th>\n",
       "      <th>intercept</th>\n",
       "      <th>coef_x_1</th>\n",
       "      <th>coef_x_2</th>\n",
       "      <th>coef_x_3</th>\n",
       "      <th>coef_x_4</th>\n",
       "      <th>coef_x_5</th>\n",
       "      <th>coef_x_6</th>\n",
       "      <th>coef_x_7</th>\n",
       "      <th>coef_x_8</th>\n",
       "    </tr>\n",
       "  </thead>\n",
       "  <tbody>\n",
       "    <tr>\n",
       "      <th>alpha_1e-15</th>\n",
       "      <td>25.581</td>\n",
       "      <td>-0.273658</td>\n",
       "      <td>0.0473796</td>\n",
       "      <td>-0.077081</td>\n",
       "      <td>-0.000670331</td>\n",
       "      <td>0.0031706</td>\n",
       "      <td>1.33334e-06</td>\n",
       "      <td>-0.00435621</td>\n",
       "      <td>-0.000739794</td>\n",
       "      <td>-0.012272</td>\n",
       "    </tr>\n",
       "    <tr>\n",
       "      <th>alpha_1e-10</th>\n",
       "      <td>25.581</td>\n",
       "      <td>-0.273658</td>\n",
       "      <td>0.0473796</td>\n",
       "      <td>-0.077081</td>\n",
       "      <td>-0.000670331</td>\n",
       "      <td>0.0031706</td>\n",
       "      <td>1.33334e-06</td>\n",
       "      <td>-0.00435621</td>\n",
       "      <td>-0.000739794</td>\n",
       "      <td>-0.012272</td>\n",
       "    </tr>\n",
       "    <tr>\n",
       "      <th>alpha_1e-08</th>\n",
       "      <td>25.581</td>\n",
       "      <td>-0.273658</td>\n",
       "      <td>0.0473796</td>\n",
       "      <td>-0.077081</td>\n",
       "      <td>-0.000670331</td>\n",
       "      <td>0.0031706</td>\n",
       "      <td>1.33332e-06</td>\n",
       "      <td>-0.00435621</td>\n",
       "      <td>-0.000739793</td>\n",
       "      <td>-0.012272</td>\n",
       "    </tr>\n",
       "    <tr>\n",
       "      <th>alpha_0.0001</th>\n",
       "      <td>25.581</td>\n",
       "      <td>-0.27385</td>\n",
       "      <td>0.0473518</td>\n",
       "      <td>-0.0770627</td>\n",
       "      <td>-0.000669056</td>\n",
       "      <td>0.00316672</td>\n",
       "      <td>1.14618e-06</td>\n",
       "      <td>-0.00436343</td>\n",
       "      <td>-0.000720487</td>\n",
       "      <td>-0.0122052</td>\n",
       "    </tr>\n",
       "    <tr>\n",
       "      <th>alpha_0.001</th>\n",
       "      <td>25.5815</td>\n",
       "      <td>-0.275558</td>\n",
       "      <td>0.0471039</td>\n",
       "      <td>-0.0768917</td>\n",
       "      <td>-0.000657987</td>\n",
       "      <td>0.00313212</td>\n",
       "      <td>-5.02811e-07</td>\n",
       "      <td>-0.00442862</td>\n",
       "      <td>-0.000548929</td>\n",
       "      <td>-0.0116127</td>\n",
       "    </tr>\n",
       "    <tr>\n",
       "      <th>alpha_0.01</th>\n",
       "      <td>25.6174</td>\n",
       "      <td>-0.290393</td>\n",
       "      <td>0.0448471</td>\n",
       "      <td>-0.0747948</td>\n",
       "      <td>-0.000577833</td>\n",
       "      <td>0.00281638</td>\n",
       "      <td>-1.41634e-05</td>\n",
       "      <td>-0.00507973</td>\n",
       "      <td>0.000980392</td>\n",
       "      <td>-0.00636508</td>\n",
       "    </tr>\n",
       "    <tr>\n",
       "      <th>alpha_1</th>\n",
       "      <td>33.8841</td>\n",
       "      <td>-0.210381</td>\n",
       "      <td>0.0135795</td>\n",
       "      <td>-0.036234</td>\n",
       "      <td>-0.00050198</td>\n",
       "      <td>-0.000756809</td>\n",
       "      <td>-7.15403e-05</td>\n",
       "      <td>-0.001671</td>\n",
       "      <td>0.0119763</td>\n",
       "      <td>0.0462997</td>\n",
       "    </tr>\n",
       "    <tr>\n",
       "      <th>alpha_5</th>\n",
       "      <td>49.9876</td>\n",
       "      <td>0.121621</td>\n",
       "      <td>0.00598186</td>\n",
       "      <td>-0.0211317</td>\n",
       "      <td>-0.00033182</td>\n",
       "      <td>-0.000724162</td>\n",
       "      <td>-4.30191e-05</td>\n",
       "      <td>0.00350434</td>\n",
       "      <td>0.00652772</td>\n",
       "      <td>0.0308406</td>\n",
       "    </tr>\n",
       "    <tr>\n",
       "      <th>alpha_10</th>\n",
       "      <td>62.2394</td>\n",
       "      <td>0.248603</td>\n",
       "      <td>0.00377963</td>\n",
       "      <td>-0.0141672</td>\n",
       "      <td>-0.000226445</td>\n",
       "      <td>-0.000517356</td>\n",
       "      <td>-2.8817e-05</td>\n",
       "      <td>0.00303027</td>\n",
       "      <td>0.00422803</td>\n",
       "      <td>0.0208565</td>\n",
       "    </tr>\n",
       "    <tr>\n",
       "      <th>alpha_20</th>\n",
       "      <td>74.5833</td>\n",
       "      <td>0.342616</td>\n",
       "      <td>0.00220785</td>\n",
       "      <td>-0.00855675</td>\n",
       "      <td>-0.000138016</td>\n",
       "      <td>-0.000322737</td>\n",
       "      <td>-1.73857e-05</td>\n",
       "      <td>0.00206237</td>\n",
       "      <td>0.00249844</td>\n",
       "      <td>0.0126321</td>\n",
       "    </tr>\n",
       "  </tbody>\n",
       "</table>\n",
       "</div>"
      ],
      "text/plain": [
       "                  rss intercept    coef_x_1    coef_x_2     coef_x_3  \\\n",
       "alpha_1e-15    25.581 -0.273658   0.0473796   -0.077081 -0.000670331   \n",
       "alpha_1e-10    25.581 -0.273658   0.0473796   -0.077081 -0.000670331   \n",
       "alpha_1e-08    25.581 -0.273658   0.0473796   -0.077081 -0.000670331   \n",
       "alpha_0.0001   25.581  -0.27385   0.0473518  -0.0770627 -0.000669056   \n",
       "alpha_0.001   25.5815 -0.275558   0.0471039  -0.0768917 -0.000657987   \n",
       "alpha_0.01    25.6174 -0.290393   0.0448471  -0.0747948 -0.000577833   \n",
       "alpha_1       33.8841 -0.210381   0.0135795   -0.036234  -0.00050198   \n",
       "alpha_5       49.9876  0.121621  0.00598186  -0.0211317  -0.00033182   \n",
       "alpha_10      62.2394  0.248603  0.00377963  -0.0141672 -0.000226445   \n",
       "alpha_20      74.5833  0.342616  0.00220785 -0.00855675 -0.000138016   \n",
       "\n",
       "                 coef_x_4     coef_x_5    coef_x_6     coef_x_7    coef_x_8  \n",
       "alpha_1e-15     0.0031706  1.33334e-06 -0.00435621 -0.000739794   -0.012272  \n",
       "alpha_1e-10     0.0031706  1.33334e-06 -0.00435621 -0.000739794   -0.012272  \n",
       "alpha_1e-08     0.0031706  1.33332e-06 -0.00435621 -0.000739793   -0.012272  \n",
       "alpha_0.0001   0.00316672  1.14618e-06 -0.00436343 -0.000720487  -0.0122052  \n",
       "alpha_0.001    0.00313212 -5.02811e-07 -0.00442862 -0.000548929  -0.0116127  \n",
       "alpha_0.01     0.00281638 -1.41634e-05 -0.00507973  0.000980392 -0.00636508  \n",
       "alpha_1      -0.000756809 -7.15403e-05   -0.001671    0.0119763   0.0462997  \n",
       "alpha_5      -0.000724162 -4.30191e-05  0.00350434   0.00652772   0.0308406  \n",
       "alpha_10     -0.000517356  -2.8817e-05  0.00303027   0.00422803   0.0208565  \n",
       "alpha_20     -0.000322737 -1.73857e-05  0.00206237   0.00249844   0.0126321  "
      ]
     },
     "execution_count": 221,
     "metadata": {},
     "output_type": "execute_result"
    }
   ],
   "source": [
    "coef_matrix_ridge"
   ]
  },
  {
   "cell_type": "markdown",
   "metadata": {},
   "source": [
    "### Observations:\n",
    "####  1. We can see, the RSS increase with alpha increases. Meanwhile, the complexity of model will reduce.\n",
    "####  2 .High alpha will lead to underfitting. But when alpha=1e-15, the RSS is not small, we conclude that using ridge regression to fit the model is not a quite good idea."
   ]
  },
  {
   "cell_type": "markdown",
   "metadata": {},
   "source": [
    ">### Third: Lasso Regression"
   ]
  },
  {
   "cell_type": "code",
   "execution_count": 216,
   "metadata": {
    "collapsed": true
   },
   "outputs": [],
   "source": [
    "from sklearn.linear_model import Lasso\n",
    "def lasso_regression(X, y, alpha, models_to_plot={}):\n",
    "    #Fit the model\n",
    "    model4 = Lasso(alpha=alpha,normalize=True, max_iter=1e5)\n",
    "    model4.fit(X,y)\n",
    "    y_pred = model4.predict(X)\n",
    "    \n",
    "    #For every alpha, make a plot\n",
    "    if alpha in models_to_plot:\n",
    "        plt.subplot(models_to_plot[alpha])\n",
    "        plt.tight_layout()\n",
    "        plt.plot(X,y_pred)\n",
    "        plt.plot(X,y,'.')\n",
    "        plt.title('Plot for alpha: %.3g'%alpha)\n",
    "    \n",
    "    #Return the result with rss,intercept, and coefficients\n",
    "    rss = sum((y_pred-y)**2)\n",
    "    ret = [rss]\n",
    "    ret.extend([model4.intercept_])\n",
    "    ret.extend(model4.coef_[1:10])\n",
    "    return ret"
   ]
  },
  {
   "cell_type": "code",
   "execution_count": 217,
   "metadata": {
    "collapsed": false
   },
   "outputs": [
    {
     "data": {
      "image/png": "[encoded data removed]",
      "text/plain": [
       "<matplotlib.figure.Figure at 0x117edadd0>"
      ]
     },
     "metadata": {},
     "output_type": "display_data"
    }
   ],
   "source": [
    "#Set the different values of alpha to be tested\n",
    "alpha_lasso = [1e-15, 1e-10, 1e-8, 1e-4, 1e-3,1e-2, 1, 5, 10, 20]\n",
    "\n",
    "#Initialize the dataframe for storing coefficients.\n",
    "col = ['rss','intercept'] + ['coef_x_%d'%i for i in range(1,9)]\n",
    "ind = ['alpha_%.2g'%alpha_lasso[i] for i in range(0,10)]\n",
    "coef_matrix_lasso = pd.DataFrame(index=ind, columns=col)\n",
    "\n",
    "models_to_plot = {1e-15:231, 1e-10:232, 1e-4:233, 1e-3:234, 1e-2:235, 5:236}\n",
    "for i in range(10):\n",
    "    coef_matrix_lasso.iloc[i,] = lasso_regression(X, y, alpha_lasso[i], models_to_plot)"
   ]
  },
  {
   "cell_type": "code",
   "execution_count": 218,
   "metadata": {
    "collapsed": false
   },
   "outputs": [
    {
     "data": {
      "text/html": [
       "<div>\n",
       "<table border=\"1\" class=\"dataframe\">\n",
       "  <thead>\n",
       "    <tr style=\"text-align: right;\">\n",
       "      <th></th>\n",
       "      <th>rss</th>\n",
       "      <th>intercept</th>\n",
       "      <th>coef_x_1</th>\n",
       "      <th>coef_x_2</th>\n",
       "      <th>coef_x_3</th>\n",
       "      <th>coef_x_4</th>\n",
       "      <th>coef_x_5</th>\n",
       "      <th>coef_x_6</th>\n",
       "      <th>coef_x_7</th>\n",
       "      <th>coef_x_8</th>\n",
       "    </tr>\n",
       "  </thead>\n",
       "  <tbody>\n",
       "    <tr>\n",
       "      <th>alpha_1e-15</th>\n",
       "      <td>25.581</td>\n",
       "      <td>-0.273658</td>\n",
       "      <td>0.0473796</td>\n",
       "      <td>-0.077081</td>\n",
       "      <td>-0.000670331</td>\n",
       "      <td>0.0031706</td>\n",
       "      <td>1.33334e-06</td>\n",
       "      <td>-0.00435621</td>\n",
       "      <td>-0.000739794</td>\n",
       "      <td>-0.012272</td>\n",
       "    </tr>\n",
       "    <tr>\n",
       "      <th>alpha_1e-10</th>\n",
       "      <td>25.581</td>\n",
       "      <td>-0.273658</td>\n",
       "      <td>0.0473796</td>\n",
       "      <td>-0.077081</td>\n",
       "      <td>-0.00067033</td>\n",
       "      <td>0.0031706</td>\n",
       "      <td>1.33328e-06</td>\n",
       "      <td>-0.00435621</td>\n",
       "      <td>-0.000739791</td>\n",
       "      <td>-0.012272</td>\n",
       "    </tr>\n",
       "    <tr>\n",
       "      <th>alpha_1e-08</th>\n",
       "      <td>25.581</td>\n",
       "      <td>-0.27367</td>\n",
       "      <td>0.0473792</td>\n",
       "      <td>-0.0770815</td>\n",
       "      <td>-0.00067027</td>\n",
       "      <td>0.00317057</td>\n",
       "      <td>1.32731e-06</td>\n",
       "      <td>-0.00435595</td>\n",
       "      <td>-0.00073944</td>\n",
       "      <td>-0.0122705</td>\n",
       "    </tr>\n",
       "    <tr>\n",
       "      <th>alpha_0.0001</th>\n",
       "      <td>25.6353</td>\n",
       "      <td>-0.264031</td>\n",
       "      <td>0.0460529</td>\n",
       "      <td>-0.0800018</td>\n",
       "      <td>-0.00037532</td>\n",
       "      <td>0.0024271</td>\n",
       "      <td>-0</td>\n",
       "      <td>-0.00524451</td>\n",
       "      <td>-0</td>\n",
       "      <td>-0</td>\n",
       "    </tr>\n",
       "    <tr>\n",
       "      <th>alpha_0.001</th>\n",
       "      <td>26.9408</td>\n",
       "      <td>-0.147814</td>\n",
       "      <td>0.0418174</td>\n",
       "      <td>-0.0580354</td>\n",
       "      <td>-0</td>\n",
       "      <td>0</td>\n",
       "      <td>-0</td>\n",
       "      <td>-0.00244686</td>\n",
       "      <td>0</td>\n",
       "      <td>0</td>\n",
       "    </tr>\n",
       "    <tr>\n",
       "      <th>alpha_0.01</th>\n",
       "      <td>44.0824</td>\n",
       "      <td>-0.190068</td>\n",
       "      <td>0.0284531</td>\n",
       "      <td>-0</td>\n",
       "      <td>-0</td>\n",
       "      <td>-0</td>\n",
       "      <td>-0</td>\n",
       "      <td>0</td>\n",
       "      <td>0</td>\n",
       "      <td>0</td>\n",
       "    </tr>\n",
       "    <tr>\n",
       "      <th>alpha_1</th>\n",
       "      <td>97.7934</td>\n",
       "      <td>0.477041</td>\n",
       "      <td>0</td>\n",
       "      <td>-0</td>\n",
       "      <td>-0</td>\n",
       "      <td>-0</td>\n",
       "      <td>-0</td>\n",
       "      <td>0</td>\n",
       "      <td>0</td>\n",
       "      <td>0</td>\n",
       "    </tr>\n",
       "    <tr>\n",
       "      <th>alpha_5</th>\n",
       "      <td>97.7934</td>\n",
       "      <td>0.477041</td>\n",
       "      <td>0</td>\n",
       "      <td>-0</td>\n",
       "      <td>-0</td>\n",
       "      <td>-0</td>\n",
       "      <td>-0</td>\n",
       "      <td>0</td>\n",
       "      <td>0</td>\n",
       "      <td>0</td>\n",
       "    </tr>\n",
       "    <tr>\n",
       "      <th>alpha_10</th>\n",
       "      <td>97.7934</td>\n",
       "      <td>0.477041</td>\n",
       "      <td>0</td>\n",
       "      <td>-0</td>\n",
       "      <td>-0</td>\n",
       "      <td>-0</td>\n",
       "      <td>-0</td>\n",
       "      <td>0</td>\n",
       "      <td>0</td>\n",
       "      <td>0</td>\n",
       "    </tr>\n",
       "    <tr>\n",
       "      <th>alpha_20</th>\n",
       "      <td>97.7934</td>\n",
       "      <td>0.477041</td>\n",
       "      <td>0</td>\n",
       "      <td>-0</td>\n",
       "      <td>-0</td>\n",
       "      <td>-0</td>\n",
       "      <td>-0</td>\n",
       "      <td>0</td>\n",
       "      <td>0</td>\n",
       "      <td>0</td>\n",
       "    </tr>\n",
       "  </tbody>\n",
       "</table>\n",
       "</div>"
      ],
      "text/plain": [
       "                  rss intercept   coef_x_1   coef_x_2     coef_x_3  \\\n",
       "alpha_1e-15    25.581 -0.273658  0.0473796  -0.077081 -0.000670331   \n",
       "alpha_1e-10    25.581 -0.273658  0.0473796  -0.077081  -0.00067033   \n",
       "alpha_1e-08    25.581  -0.27367  0.0473792 -0.0770815  -0.00067027   \n",
       "alpha_0.0001  25.6353 -0.264031  0.0460529 -0.0800018  -0.00037532   \n",
       "alpha_0.001   26.9408 -0.147814  0.0418174 -0.0580354           -0   \n",
       "alpha_0.01    44.0824 -0.190068  0.0284531         -0           -0   \n",
       "alpha_1       97.7934  0.477041          0         -0           -0   \n",
       "alpha_5       97.7934  0.477041          0         -0           -0   \n",
       "alpha_10      97.7934  0.477041          0         -0           -0   \n",
       "alpha_20      97.7934  0.477041          0         -0           -0   \n",
       "\n",
       "                coef_x_4     coef_x_5    coef_x_6     coef_x_7   coef_x_8  \n",
       "alpha_1e-15    0.0031706  1.33334e-06 -0.00435621 -0.000739794  -0.012272  \n",
       "alpha_1e-10    0.0031706  1.33328e-06 -0.00435621 -0.000739791  -0.012272  \n",
       "alpha_1e-08   0.00317057  1.32731e-06 -0.00435595  -0.00073944 -0.0122705  \n",
       "alpha_0.0001   0.0024271           -0 -0.00524451           -0         -0  \n",
       "alpha_0.001            0           -0 -0.00244686            0          0  \n",
       "alpha_0.01            -0           -0           0            0          0  \n",
       "alpha_1               -0           -0           0            0          0  \n",
       "alpha_5               -0           -0           0            0          0  \n",
       "alpha_10              -0           -0           0            0          0  \n",
       "alpha_20              -0           -0           0            0          0  "
      ]
     },
     "execution_count": 218,
     "metadata": {},
     "output_type": "execute_result"
    }
   ],
   "source": [
    "coef_matrix_lasso"
   ]
  },
  {
   "cell_type": "markdown",
   "metadata": {},
   "source": [
    "### Observations: \n",
    "#### 1. High alpha results in high rss.\n",
    "\n",
    "#### 2. When alpha is big, for same alpha, lasso has higher rss than ridge, which means it has poor fit that ridge.\n",
    "\n",
    "#### 3. Many of coefficients are zero."
   ]
  },
  {
   "cell_type": "code",
   "execution_count": 223,
   "metadata": {
    "collapsed": false
   },
   "outputs": [
    {
     "data": {
      "text/plain": [
       "alpha_1e-15     0\n",
       "alpha_1e-10     0\n",
       "alpha_1e-08     0\n",
       "alpha_0.0001    3\n",
       "alpha_0.001     5\n",
       "alpha_0.01      7\n",
       "alpha_1         8\n",
       "alpha_5         8\n",
       "alpha_10        8\n",
       "alpha_20        8\n",
       "dtype: int64"
      ]
     },
     "execution_count": 223,
     "metadata": {},
     "output_type": "execute_result"
    }
   ],
   "source": [
    "# check how many 0 coffeicient does each row have\n",
    "coef_matrix_lasso.apply(lambda x: sum(x.values==0),axis=1)"
   ]
  },
  {
   "cell_type": "code",
   "execution_count": null,
   "metadata": {
    "collapsed": true
   },
   "outputs": [],
   "source": []
  }
 ],
 "metadata": {
  "anaconda-cloud": {},
  "kernelspec": {
   "display_name": "Python [conda root]",
   "language": "python",
   "name": "conda-root-py"
  },
  "language_info": {
   "codemirror_mode": {
    "name": "ipython",
    "version": 2
   },
   "file_extension": ".py",
   "mimetype": "text/x-python",
   "name": "python",
   "nbconvert_exporter": "python",
   "pygments_lexer": "ipython2",
   "version": "2.7.13"
  }
 },
 "nbformat": 4,
 "nbformat_minor": 1
}
